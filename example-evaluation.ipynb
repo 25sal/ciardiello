{
 "cells": [
  {
   "cell_type": "code",
   "execution_count": 6,
   "metadata": {
    "pycharm": {
     "name": "#%%\n"
    }
   },
   "outputs": [],
   "source": [
    "import os\n",
    "import pickle\n",
    "\n",
    "import matplotlib.pyplot as plt\n",
    "import numpy as np\n",
    "from tabulate import tabulate\n",
    "import tensorflow._api.v2.compat.v1 as tf\n",
    "\n",
    "\n",
    "import algorithms.heartrate as hr\n",
    "import utils"
   ]
  },
  {
   "cell_type": "code",
   "execution_count": 7,
   "metadata": {
    "pycharm": {
     "name": "#%%\n"
    }
   },
   "outputs": [],
   "source": [
    "# tensorflow settings\n",
    "tf.logging.set_verbosity(tf.logging.ERROR)\n",
    "config = tf.ConfigProto()\n",
    "config.gpu_options.allow_growth = True\n",
    "tf.keras.backend.set_session(tf.Session(config=config))\n",
    "\n",
    "# disable warnings\n",
    "import warnings\n",
    "warnings.filterwarnings(\"ignore\")"
   ]
  },
  {
   "cell_type": "code",
   "execution_count": 21,
   "metadata": {
    "pycharm": {
     "name": "#%%\n"
    }
   },
   "outputs": [],
   "source": [
    "# x_data_train, y_data_train, groups_train = ...\n",
    "# x_data_test, y_data_test, groups_test = ...\n",
    "\n",
    "# dummy:\n",
    "train_size, test_size = 774, 258\n",
    "n_groups_train, n_groups_test = 27, 9\n",
    "data = np.genfromtxt('C:/Users/dario/Desktop/pr1/1000x400/rawprova1/raw_2022-03-14_bcg.csv', delimiter=';')\n",
    "data = data[:len(data)-len(data)%400]\n",
    "data = data.reshape( int(len(data)/400), 400)\n",
    "x_data_train = np.expand_dims(data, axis=2)\n",
    "data = np.genfromtxt('C:/Users/dario/Desktop/pr1/1000x400/gold/gold.csv', delimiter=',')\n",
    "data = data[:len(data)-len(data)%16]\n",
    "y_data_train = np.mean(data.reshape(int(len(data)/16), 16), axis=1)\n",
    "y_data_train = y_data_train[:774]\n",
    "groups_train = 27\n",
    "\n",
    "x_data_test = x_data_train[200:458]\n",
    "y_data_test = y_data_train[200:458]\n",
    "groups_test = 9"
   ]
  },
  {
   "cell_type": "code",
   "execution_count": 22,
   "metadata": {
    "pycharm": {
     "name": "#%%\n"
    }
   },
   "outputs": [],
   "source": [
    "modelnames = [\n",
    "    \"models.deeper_fcn-x1\",\n",
    "    #\"models.stacked_cnn_rnn_improved-x1\",\n",
    "]"
   ]
  },
  {
   "cell_type": "code",
   "execution_count": 23,
   "metadata": {
    "pycharm": {
     "name": "#%%\n"
    }
   },
   "outputs": [],
   "source": [
    "predictions_dl_train = {\"true\": y_data_train, \"groups\": groups_train}\n",
    "predictions_dl_test = {\"true\": y_data_test, \"groups\": groups_test}"
   ]
  },
  {
   "cell_type": "code",
   "execution_count": 24,
   "metadata": {
    "pycharm": {
     "name": "#%%\n"
    }
   },
   "outputs": [],
   "source": [
    "def get_modelpath(modelname):\n",
    "    return os.path.join(\"output\", modelname)  # modify this if necessary\n",
    "\n",
    "def get_predictions(modelname, weights_format=\"weights-{:02d}.h5\",\n",
    "                    batch_size=32, train=True):\n",
    "    modelpath = get_modelpath(modelname)\n",
    "    model = utils.get_model_from_json(modelpath)\n",
    "    \n",
    "    if not train:\n",
    "        model.load_weights(os.path.join(modelpath, \"final\",\n",
    "                                        weights_format.format(0)))\n",
    "        y_pred = model.predict(x_data_test)\n",
    "        tf.keras.backend.clear_session()\n",
    "        return y_pred[:, 0]\n",
    "\n",
    "    splitter = utils.get_group_splitter(n_groups_train, groups_train)\n",
    "    results = []\n",
    "    for i, (_, v_inds) in enumerate(splitter):\n",
    "        model.load_weights(os.path.join(modelpath, weights_format.format(i)))\n",
    "        y_pred = model.predict(x_data_train[v_inds], batch_size=batch_size)\n",
    "        results = np.r_[results, y_pred[:, 0]]  # append new predictions\n",
    "    tf.keras.backend.clear_session()\n",
    "    return results"
   ]
  },
  {
   "cell_type": "code",
   "execution_count": 25,
   "outputs": [
    {
     "name": "stdout",
     "output_type": "stream",
     "text": [
      "Model: \"model_1\"\n",
      "_________________________________________________________________\n",
      " Layer (type)                Output Shape              Param #   \n",
      "=================================================================\n",
      " input_2 (InputLayer)        [(None, 400, 1)]          0         \n",
      "                                                                 \n",
      " conv1d_11 (Conv1D)          (None, 390, 8)            96        \n",
      "                                                                 \n",
      " batch_normalization_8 (Batc  (None, 390, 8)           32        \n",
      " hNormalization)                                                 \n",
      "                                                                 \n",
      " leaky_re_lu_10 (LeakyReLU)  (None, 390, 8)            0         \n",
      "                                                                 \n",
      " conv1d_12 (Conv1D)          (None, 190, 8)            712       \n",
      "                                                                 \n",
      " batch_normalization_9 (Batc  (None, 190, 8)           32        \n",
      " hNormalization)                                                 \n",
      "                                                                 \n",
      " leaky_re_lu_11 (LeakyReLU)  (None, 190, 8)            0         \n",
      "                                                                 \n",
      " conv1d_13 (Conv1D)          (None, 180, 16)           1424      \n",
      "                                                                 \n",
      " batch_normalization_10 (Bat  (None, 180, 16)          64        \n",
      " chNormalization)                                                \n",
      "                                                                 \n",
      " leaky_re_lu_12 (LeakyReLU)  (None, 180, 16)           0         \n",
      "                                                                 \n",
      " conv1d_14 (Conv1D)          (None, 86, 16)            2320      \n",
      "                                                                 \n",
      " batch_normalization_11 (Bat  (None, 86, 16)           64        \n",
      " chNormalization)                                                \n",
      "                                                                 \n",
      " leaky_re_lu_13 (LeakyReLU)  (None, 86, 16)            0         \n",
      "                                                                 \n",
      " conv1d_15 (Conv1D)          (None, 78, 16)            2320      \n",
      "                                                                 \n",
      " batch_normalization_12 (Bat  (None, 78, 16)           64        \n",
      " chNormalization)                                                \n",
      "                                                                 \n",
      " leaky_re_lu_14 (LeakyReLU)  (None, 78, 16)            0         \n",
      "                                                                 \n",
      " conv1d_16 (Conv1D)          (None, 36, 16)            1808      \n",
      "                                                                 \n",
      " batch_normalization_13 (Bat  (None, 36, 16)           64        \n",
      " chNormalization)                                                \n",
      "                                                                 \n",
      " leaky_re_lu_15 (LeakyReLU)  (None, 36, 16)            0         \n",
      "                                                                 \n",
      " conv1d_17 (Conv1D)          (None, 28, 16)            2320      \n",
      "                                                                 \n",
      " batch_normalization_14 (Bat  (None, 28, 16)           64        \n",
      " chNormalization)                                                \n",
      "                                                                 \n",
      " leaky_re_lu_16 (LeakyReLU)  (None, 28, 16)            0         \n",
      "                                                                 \n",
      " conv1d_18 (Conv1D)          (None, 11, 16)            1808      \n",
      "                                                                 \n",
      " batch_normalization_15 (Bat  (None, 11, 16)           64        \n",
      " chNormalization)                                                \n",
      "                                                                 \n",
      " leaky_re_lu_17 (LeakyReLU)  (None, 11, 16)            0         \n",
      "                                                                 \n",
      " conv1d_19 (Conv1D)          (None, 5, 8)              904       \n",
      "                                                                 \n",
      " leaky_re_lu_18 (LeakyReLU)  (None, 5, 8)              0         \n",
      "                                                                 \n",
      " conv1d_20 (Conv1D)          (None, 1, 8)              328       \n",
      "                                                                 \n",
      " leaky_re_lu_19 (LeakyReLU)  (None, 1, 8)              0         \n",
      "                                                                 \n",
      " conv1d_21 (Conv1D)          (None, 1, 1)              9         \n",
      "                                                                 \n",
      " flatten_1 (Flatten)         (None, 1)                 0         \n",
      "                                                                 \n",
      " lambda_1 (Lambda)           (None, 1)                 0         \n",
      "                                                                 \n",
      "=================================================================\n",
      "Total params: 14,497\n",
      "Trainable params: 14,273\n",
      "Non-trainable params: 224\n",
      "_________________________________________________________________\n"
     ]
    }
   ],
   "source": [
    "utils.get_model_from_json(get_modelpath(modelnames[-1])).summary()"
   ],
   "metadata": {
    "collapsed": false,
    "pycharm": {
     "name": "#%%\n"
    }
   }
  },
  {
   "cell_type": "code",
   "execution_count": 26,
   "metadata": {
    "pycharm": {
     "name": "#%%\n"
    }
   },
   "outputs": [
    {
     "ename": "TypeError",
     "evalue": "Singleton array array(27) cannot be considered a valid collection.",
     "output_type": "error",
     "traceback": [
      "\u001B[1;31m---------------------------------------------------------------------------\u001B[0m",
      "\u001B[1;31mTypeError\u001B[0m                                 Traceback (most recent call last)",
      "\u001B[1;32m~\\AppData\\Local\\Temp\\ipykernel_26208\\2417853726.py\u001B[0m in \u001B[0;36m<module>\u001B[1;34m\u001B[0m\n\u001B[0;32m      1\u001B[0m \u001B[1;32mfor\u001B[0m \u001B[0mmodelname\u001B[0m \u001B[1;32min\u001B[0m \u001B[0mmodelnames\u001B[0m\u001B[1;33m:\u001B[0m\u001B[1;33m\u001B[0m\u001B[1;33m\u001B[0m\u001B[0m\n\u001B[1;32m----> 2\u001B[1;33m     \u001B[0mpredictions_dl_train\u001B[0m\u001B[1;33m[\u001B[0m\u001B[0mmodelname\u001B[0m\u001B[1;33m]\u001B[0m \u001B[1;33m=\u001B[0m \u001B[0mget_predictions\u001B[0m\u001B[1;33m(\u001B[0m\u001B[0mmodelname\u001B[0m\u001B[1;33m)\u001B[0m\u001B[1;33m\u001B[0m\u001B[1;33m\u001B[0m\u001B[0m\n\u001B[0m\u001B[0;32m      3\u001B[0m     \u001B[0mpredictions_dl_test\u001B[0m\u001B[1;33m[\u001B[0m\u001B[0mmodelname\u001B[0m\u001B[1;33m]\u001B[0m \u001B[1;33m=\u001B[0m \u001B[0mget_predictions\u001B[0m\u001B[1;33m(\u001B[0m\u001B[0mmodelname\u001B[0m\u001B[1;33m,\u001B[0m \u001B[0mtrain\u001B[0m\u001B[1;33m=\u001B[0m\u001B[1;32mFalse\u001B[0m\u001B[1;33m)\u001B[0m\u001B[1;33m\u001B[0m\u001B[1;33m\u001B[0m\u001B[0m\n\u001B[0;32m      4\u001B[0m     \u001B[0mprint\u001B[0m\u001B[1;33m(\u001B[0m\u001B[0mmodelname\u001B[0m\u001B[1;33m,\u001B[0m \u001B[0mhr\u001B[0m\u001B[1;33m.\u001B[0m\u001B[0mhr_mae\u001B[0m\u001B[1;33m(\u001B[0m\u001B[0my_data_test\u001B[0m\u001B[1;33m,\u001B[0m \u001B[0mpredictions_dl_test\u001B[0m\u001B[1;33m[\u001B[0m\u001B[0mmodelname\u001B[0m\u001B[1;33m]\u001B[0m\u001B[1;33m)\u001B[0m\u001B[1;33m)\u001B[0m\u001B[1;33m\u001B[0m\u001B[1;33m\u001B[0m\u001B[0m\n",
      "\u001B[1;32m~\\AppData\\Local\\Temp\\ipykernel_26208\\2044525042.py\u001B[0m in \u001B[0;36mget_predictions\u001B[1;34m(modelname, weights_format, batch_size, train)\u001B[0m\n\u001B[0;32m     16\u001B[0m     \u001B[0msplitter\u001B[0m \u001B[1;33m=\u001B[0m \u001B[0mutils\u001B[0m\u001B[1;33m.\u001B[0m\u001B[0mget_group_splitter\u001B[0m\u001B[1;33m(\u001B[0m\u001B[0mn_groups_train\u001B[0m\u001B[1;33m,\u001B[0m \u001B[0mgroups_train\u001B[0m\u001B[1;33m)\u001B[0m\u001B[1;33m\u001B[0m\u001B[1;33m\u001B[0m\u001B[0m\n\u001B[0;32m     17\u001B[0m     \u001B[0mresults\u001B[0m \u001B[1;33m=\u001B[0m \u001B[1;33m[\u001B[0m\u001B[1;33m]\u001B[0m\u001B[1;33m\u001B[0m\u001B[1;33m\u001B[0m\u001B[0m\n\u001B[1;32m---> 18\u001B[1;33m     \u001B[1;32mfor\u001B[0m \u001B[0mi\u001B[0m\u001B[1;33m,\u001B[0m \u001B[1;33m(\u001B[0m\u001B[0m_\u001B[0m\u001B[1;33m,\u001B[0m \u001B[0mv_inds\u001B[0m\u001B[1;33m)\u001B[0m \u001B[1;32min\u001B[0m \u001B[0menumerate\u001B[0m\u001B[1;33m(\u001B[0m\u001B[0msplitter\u001B[0m\u001B[1;33m)\u001B[0m\u001B[1;33m:\u001B[0m\u001B[1;33m\u001B[0m\u001B[1;33m\u001B[0m\u001B[0m\n\u001B[0m\u001B[0;32m     19\u001B[0m         \u001B[0mmodel\u001B[0m\u001B[1;33m.\u001B[0m\u001B[0mload_weights\u001B[0m\u001B[1;33m(\u001B[0m\u001B[0mos\u001B[0m\u001B[1;33m.\u001B[0m\u001B[0mpath\u001B[0m\u001B[1;33m.\u001B[0m\u001B[0mjoin\u001B[0m\u001B[1;33m(\u001B[0m\u001B[0mmodelpath\u001B[0m\u001B[1;33m,\u001B[0m \u001B[0mweights_format\u001B[0m\u001B[1;33m.\u001B[0m\u001B[0mformat\u001B[0m\u001B[1;33m(\u001B[0m\u001B[0mi\u001B[0m\u001B[1;33m)\u001B[0m\u001B[1;33m)\u001B[0m\u001B[1;33m)\u001B[0m\u001B[1;33m\u001B[0m\u001B[1;33m\u001B[0m\u001B[0m\n\u001B[0;32m     20\u001B[0m         \u001B[0my_pred\u001B[0m \u001B[1;33m=\u001B[0m \u001B[0mmodel\u001B[0m\u001B[1;33m.\u001B[0m\u001B[0mpredict\u001B[0m\u001B[1;33m(\u001B[0m\u001B[0mx_data_train\u001B[0m\u001B[1;33m[\u001B[0m\u001B[0mv_inds\u001B[0m\u001B[1;33m]\u001B[0m\u001B[1;33m,\u001B[0m \u001B[0mbatch_size\u001B[0m\u001B[1;33m=\u001B[0m\u001B[0mbatch_size\u001B[0m\u001B[1;33m)\u001B[0m\u001B[1;33m\u001B[0m\u001B[1;33m\u001B[0m\u001B[0m\n",
      "\u001B[1;32m~\\PycharmProjects\\pythonProject\\venv\\lib\\site-packages\\sklearn\\model_selection\\_split.py\u001B[0m in \u001B[0;36msplit\u001B[1;34m(self, X, y, groups)\u001B[0m\n\u001B[0;32m    328\u001B[0m             \u001B[0mThe\u001B[0m \u001B[0mtesting\u001B[0m \u001B[0mset\u001B[0m \u001B[0mindices\u001B[0m \u001B[1;32mfor\u001B[0m \u001B[0mthat\u001B[0m \u001B[0msplit\u001B[0m\u001B[1;33m.\u001B[0m\u001B[1;33m\u001B[0m\u001B[1;33m\u001B[0m\u001B[0m\n\u001B[0;32m    329\u001B[0m         \"\"\"\n\u001B[1;32m--> 330\u001B[1;33m         \u001B[0mX\u001B[0m\u001B[1;33m,\u001B[0m \u001B[0my\u001B[0m\u001B[1;33m,\u001B[0m \u001B[0mgroups\u001B[0m \u001B[1;33m=\u001B[0m \u001B[0mindexable\u001B[0m\u001B[1;33m(\u001B[0m\u001B[0mX\u001B[0m\u001B[1;33m,\u001B[0m \u001B[0my\u001B[0m\u001B[1;33m,\u001B[0m \u001B[0mgroups\u001B[0m\u001B[1;33m)\u001B[0m\u001B[1;33m\u001B[0m\u001B[1;33m\u001B[0m\u001B[0m\n\u001B[0m\u001B[0;32m    331\u001B[0m         \u001B[0mn_samples\u001B[0m \u001B[1;33m=\u001B[0m \u001B[0m_num_samples\u001B[0m\u001B[1;33m(\u001B[0m\u001B[0mX\u001B[0m\u001B[1;33m)\u001B[0m\u001B[1;33m\u001B[0m\u001B[1;33m\u001B[0m\u001B[0m\n\u001B[0;32m    332\u001B[0m         \u001B[1;32mif\u001B[0m \u001B[0mself\u001B[0m\u001B[1;33m.\u001B[0m\u001B[0mn_splits\u001B[0m \u001B[1;33m>\u001B[0m \u001B[0mn_samples\u001B[0m\u001B[1;33m:\u001B[0m\u001B[1;33m\u001B[0m\u001B[1;33m\u001B[0m\u001B[0m\n",
      "\u001B[1;32m~\\PycharmProjects\\pythonProject\\venv\\lib\\site-packages\\sklearn\\utils\\validation.py\u001B[0m in \u001B[0;36mindexable\u001B[1;34m(*iterables)\u001B[0m\n\u001B[0;32m    376\u001B[0m \u001B[1;33m\u001B[0m\u001B[0m\n\u001B[0;32m    377\u001B[0m     \u001B[0mresult\u001B[0m \u001B[1;33m=\u001B[0m \u001B[1;33m[\u001B[0m\u001B[0m_make_indexable\u001B[0m\u001B[1;33m(\u001B[0m\u001B[0mX\u001B[0m\u001B[1;33m)\u001B[0m \u001B[1;32mfor\u001B[0m \u001B[0mX\u001B[0m \u001B[1;32min\u001B[0m \u001B[0miterables\u001B[0m\u001B[1;33m]\u001B[0m\u001B[1;33m\u001B[0m\u001B[1;33m\u001B[0m\u001B[0m\n\u001B[1;32m--> 378\u001B[1;33m     \u001B[0mcheck_consistent_length\u001B[0m\u001B[1;33m(\u001B[0m\u001B[1;33m*\u001B[0m\u001B[0mresult\u001B[0m\u001B[1;33m)\u001B[0m\u001B[1;33m\u001B[0m\u001B[1;33m\u001B[0m\u001B[0m\n\u001B[0m\u001B[0;32m    379\u001B[0m     \u001B[1;32mreturn\u001B[0m \u001B[0mresult\u001B[0m\u001B[1;33m\u001B[0m\u001B[1;33m\u001B[0m\u001B[0m\n\u001B[0;32m    380\u001B[0m \u001B[1;33m\u001B[0m\u001B[0m\n",
      "\u001B[1;32m~\\PycharmProjects\\pythonProject\\venv\\lib\\site-packages\\sklearn\\utils\\validation.py\u001B[0m in \u001B[0;36mcheck_consistent_length\u001B[1;34m(*arrays)\u001B[0m\n\u001B[0;32m    327\u001B[0m     \"\"\"\n\u001B[0;32m    328\u001B[0m \u001B[1;33m\u001B[0m\u001B[0m\n\u001B[1;32m--> 329\u001B[1;33m     \u001B[0mlengths\u001B[0m \u001B[1;33m=\u001B[0m \u001B[1;33m[\u001B[0m\u001B[0m_num_samples\u001B[0m\u001B[1;33m(\u001B[0m\u001B[0mX\u001B[0m\u001B[1;33m)\u001B[0m \u001B[1;32mfor\u001B[0m \u001B[0mX\u001B[0m \u001B[1;32min\u001B[0m \u001B[0marrays\u001B[0m \u001B[1;32mif\u001B[0m \u001B[0mX\u001B[0m \u001B[1;32mis\u001B[0m \u001B[1;32mnot\u001B[0m \u001B[1;32mNone\u001B[0m\u001B[1;33m]\u001B[0m\u001B[1;33m\u001B[0m\u001B[1;33m\u001B[0m\u001B[0m\n\u001B[0m\u001B[0;32m    330\u001B[0m     \u001B[0muniques\u001B[0m \u001B[1;33m=\u001B[0m \u001B[0mnp\u001B[0m\u001B[1;33m.\u001B[0m\u001B[0munique\u001B[0m\u001B[1;33m(\u001B[0m\u001B[0mlengths\u001B[0m\u001B[1;33m)\u001B[0m\u001B[1;33m\u001B[0m\u001B[1;33m\u001B[0m\u001B[0m\n\u001B[0;32m    331\u001B[0m     \u001B[1;32mif\u001B[0m \u001B[0mlen\u001B[0m\u001B[1;33m(\u001B[0m\u001B[0muniques\u001B[0m\u001B[1;33m)\u001B[0m \u001B[1;33m>\u001B[0m \u001B[1;36m1\u001B[0m\u001B[1;33m:\u001B[0m\u001B[1;33m\u001B[0m\u001B[1;33m\u001B[0m\u001B[0m\n",
      "\u001B[1;32m~\\PycharmProjects\\pythonProject\\venv\\lib\\site-packages\\sklearn\\utils\\validation.py\u001B[0m in \u001B[0;36m<listcomp>\u001B[1;34m(.0)\u001B[0m\n\u001B[0;32m    327\u001B[0m     \"\"\"\n\u001B[0;32m    328\u001B[0m \u001B[1;33m\u001B[0m\u001B[0m\n\u001B[1;32m--> 329\u001B[1;33m     \u001B[0mlengths\u001B[0m \u001B[1;33m=\u001B[0m \u001B[1;33m[\u001B[0m\u001B[0m_num_samples\u001B[0m\u001B[1;33m(\u001B[0m\u001B[0mX\u001B[0m\u001B[1;33m)\u001B[0m \u001B[1;32mfor\u001B[0m \u001B[0mX\u001B[0m \u001B[1;32min\u001B[0m \u001B[0marrays\u001B[0m \u001B[1;32mif\u001B[0m \u001B[0mX\u001B[0m \u001B[1;32mis\u001B[0m \u001B[1;32mnot\u001B[0m \u001B[1;32mNone\u001B[0m\u001B[1;33m]\u001B[0m\u001B[1;33m\u001B[0m\u001B[1;33m\u001B[0m\u001B[0m\n\u001B[0m\u001B[0;32m    330\u001B[0m     \u001B[0muniques\u001B[0m \u001B[1;33m=\u001B[0m \u001B[0mnp\u001B[0m\u001B[1;33m.\u001B[0m\u001B[0munique\u001B[0m\u001B[1;33m(\u001B[0m\u001B[0mlengths\u001B[0m\u001B[1;33m)\u001B[0m\u001B[1;33m\u001B[0m\u001B[1;33m\u001B[0m\u001B[0m\n\u001B[0;32m    331\u001B[0m     \u001B[1;32mif\u001B[0m \u001B[0mlen\u001B[0m\u001B[1;33m(\u001B[0m\u001B[0muniques\u001B[0m\u001B[1;33m)\u001B[0m \u001B[1;33m>\u001B[0m \u001B[1;36m1\u001B[0m\u001B[1;33m:\u001B[0m\u001B[1;33m\u001B[0m\u001B[1;33m\u001B[0m\u001B[0m\n",
      "\u001B[1;32m~\\PycharmProjects\\pythonProject\\venv\\lib\\site-packages\\sklearn\\utils\\validation.py\u001B[0m in \u001B[0;36m_num_samples\u001B[1;34m(x)\u001B[0m\n\u001B[0;32m    268\u001B[0m         \u001B[1;32mif\u001B[0m \u001B[0mlen\u001B[0m\u001B[1;33m(\u001B[0m\u001B[0mx\u001B[0m\u001B[1;33m.\u001B[0m\u001B[0mshape\u001B[0m\u001B[1;33m)\u001B[0m \u001B[1;33m==\u001B[0m \u001B[1;36m0\u001B[0m\u001B[1;33m:\u001B[0m\u001B[1;33m\u001B[0m\u001B[1;33m\u001B[0m\u001B[0m\n\u001B[0;32m    269\u001B[0m             raise TypeError(\n\u001B[1;32m--> 270\u001B[1;33m                 \u001B[1;34m\"Singleton array %r cannot be considered a valid collection.\"\u001B[0m \u001B[1;33m%\u001B[0m \u001B[0mx\u001B[0m\u001B[1;33m\u001B[0m\u001B[1;33m\u001B[0m\u001B[0m\n\u001B[0m\u001B[0;32m    271\u001B[0m             )\n\u001B[0;32m    272\u001B[0m         \u001B[1;31m# Check that shape is returning an integer or default to len\u001B[0m\u001B[1;33m\u001B[0m\u001B[1;33m\u001B[0m\u001B[1;33m\u001B[0m\u001B[0m\n",
      "\u001B[1;31mTypeError\u001B[0m: Singleton array array(27) cannot be considered a valid collection."
     ]
    }
   ],
   "source": [
    "for modelname in modelnames:\n",
    "    predictions_dl_train[modelname] = get_predictions(modelname)\n",
    "    predictions_dl_test[modelname] = get_predictions(modelname, train=False)\n",
    "    print(modelname, hr.hr_mae(y_data_test, predictions_dl_test[modelname]))"
   ]
  },
  {
   "cell_type": "code",
   "execution_count": null,
   "metadata": {
    "pycharm": {
     "name": "#%%\n"
    }
   },
   "outputs": [],
   "source": [
    "# calculate MAE and MAPE patient-wise (for training and testing set)\n",
    "dl_results_train = np.zeros((len(modelnames), 1, 2, n_groups_train))\n",
    "dl_results_test = np.zeros((len(modelnames), 1, 2, n_groups_test))\n",
    "\n",
    "for res, preds_ in [(dl_results_train, predictions_dl_train),\n",
    "                    (dl_results_test, predictions_dl_test)]:\n",
    "    y_true, preds = preds_[\"true\"], preds_\n",
    "    for ni, name in enumerate(modelnames):\n",
    "        y_pred = preds[name]\n",
    "        for gi, group in enumerate(np.unique(preds[\"groups\"])):\n",
    "            yt = y_true[preds[\"groups\"] == group]\n",
    "            yp = y_pred[preds[\"groups\"] == group]\n",
    "            res[ni, 0, :, gi] = (hr.hr_mape(yt, yp), hr.hr_mae(yt, yp))\n",
    "\n",
    "score_index = 1  # 0: MAPE, 1: MAE\n",
    "rows = []\n",
    "for ni, name in enumerate(modelnames):\n",
    "    errmean = dl_results_test.mean(axis=-1)[ni, 0, score_index]\n",
    "    errstd = dl_results_test.std(axis=-1)[ni, 0, score_index]\n",
    "    rows.append((modelname, errmean, errstd))\n",
    "\n",
    "print(\"Results on testing data:\")\n",
    "print(\"========================\\n\")\n",
    "print(tabulate(rows, tablefmt=\"presto\", floatfmt=\".3f\",\n",
    "               headers=[\"modelname\", \"mae\" if score_index==1 else \"mape\", \"std\"]))"
   ]
  },
  {
   "cell_type": "code",
   "execution_count": null,
   "metadata": {
    "pycharm": {
     "name": "#%%\n"
    }
   },
   "outputs": [],
   "source": []
  }
 ],
 "metadata": {
  "kernelspec": {
   "display_name": "Python 3 (ipykernel)",
   "language": "python",
   "name": "python3"
  },
  "language_info": {
   "codemirror_mode": {
    "name": "ipython",
    "version": 3
   },
   "file_extension": ".py",
   "mimetype": "text/x-python",
   "name": "python",
   "nbconvert_exporter": "python",
   "pygments_lexer": "ipython3",
   "version": "3.7.3"
  }
 },
 "nbformat": 4,
 "nbformat_minor": 2
}