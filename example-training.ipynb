{
 "cells": [
  {
   "cell_type": "code",
   "execution_count": null,
   "metadata": {},
   "outputs": [],
   "source": [
    "%load_ext autoreload\n",
    "%autoreload 2"
   ]
  },
  {
   "cell_type": "code",
   "execution_count": null,
   "metadata": {},
   "outputs": [],
   "source": [
    "# !pip install joblib"
   ]
  },
  {
   "cell_type": "code",
   "execution_count": null,
   "metadata": {},
   "outputs": [],
   "source": [
    "import os\n",
    "\n",
    "from joblib import Parallel, delayed\n",
    "import numpy as np\n",
    "import pandas as pd\n",
    "import tensorflow as tf\n",
    "import sklearn\n",
    "from sklearn.model_selection import GroupKFold, LeaveOneGroupOut\n",
    "\n",
    "from models import stacked_cnn_rnn_improved as architecture\n",
    "import algorithms.heartrate as hr\n",
    "import utils"
   ]
  },
  {
   "cell_type": "code",
   "execution_count": null,
   "metadata": {},
   "outputs": [],
   "source": [
    "# tensorflow settings\n",
    "tf.logging.set_verbosity(tf.logging.ERROR)\n",
    "config = tf.ConfigProto()\n",
    "config.gpu_options.allow_growth = True\n",
    "tf.keras.backend.set_session(tf.Session(config=config))"
   ]
  },
  {
   "cell_type": "code",
   "execution_count": null,
   "metadata": {},
   "outputs": [],
   "source": [
    "# load data\n",
    "# x_data_train, y_data_train, groups_train = ...\n",
    "# dummy:\n",
    "train_size = 10000\n",
    "n_groups = 28\n",
    "x_data_train = np.random.normal(size=(train_size, 400, 1))\n",
    "y_data_train = np.random.normal(loc=68, scale=10, size=(train_size,))\n",
    "groups_train = np.sort(np.random.randint(n_groups, size=train_size))\n",
    "\n",
    "print(x_data_train.shape, y_data_train.shape, groups_train.shape)"
   ]
  },
  {
   "cell_type": "code",
   "execution_count": null,
   "metadata": {},
   "outputs": [],
   "source": [
    "enlarge = 1\n",
    "model_params = dict(metrics=[\"mae\", \"mape\"], enlarge=enlarge)\n",
    "fit_params = dict(epochs=1, verbose=2)  # set epochs between 30 and 75\n",
    "\n",
    "modelname = (architecture.__name__ + \"-x{}\".format(enlarge))\n",
    "modelpath = os.path.join(\"output\", modelname)\n",
    "os.makedirs(modelpath, exist_ok=True)\n",
    "os.mkdir(os.path.join(modelpath, \"final\"))\n",
    "\n",
    "# write model architecture to JSON file\n",
    "model = architecture.create(**model_params)\n",
    "with open(os.path.join(modelpath, \"model.json\"), \"w\") as fp:\n",
    "    fp.write(model.to_json())"
   ]
  },
  {
   "cell_type": "code",
   "execution_count": null,
   "metadata": {},
   "outputs": [],
   "source": [
    "# single process for parallel training\n",
    "def process_split(xt, yt, i, fit_params):\n",
    "    # set allow_growth in subprocess\n",
    "    import tensorflow as tf\n",
    "    config = tf.ConfigProto()\n",
    "    config.gpu_options.allow_growth = True\n",
    "    tf.keras.backend.set_session(tf.Session(config=config))\n",
    "    \n",
    "    csv_path = os.path.join(modelpath, \"logs-{:02d}.csv\".format(i))\n",
    "    weights_path = os.path.join(modelpath, \"weights-{:02d}.h5\".format(i))\n",
    "    fit_params.update(callbacks=[tf.keras.callbacks.CSVLogger(csv_path)])\n",
    "    \n",
    "    model = architecture.create(**model_params)\n",
    "    r = model.fit(xt, yt, **fit_params)\n",
    "    \n",
    "    model.save_weights(weights_path)\n",
    "    tf.keras.backend.clear_session()\n",
    "\n",
    "    return r.history"
   ]
  },
  {
   "cell_type": "code",
   "execution_count": null,
   "metadata": {},
   "outputs": [],
   "source": [
    "# split training data with LeaveOneGroupOut cross validation\n",
    "splitter = utils.get_group_splitter(n_groups, groups_train)"
   ]
  },
  {
   "cell_type": "code",
   "execution_count": null,
   "metadata": {},
   "outputs": [],
   "source": [
    "rs = Parallel(n_jobs=3, verbose=10)(\n",
    "    delayed(process_split)(x_data_train[t_inds], y_data_train[t_inds],\n",
    "                           i, fit_params)\n",
    "    for i, (t_inds, v_inds) in enumerate(splitter)\n",
    ")"
   ]
  },
  {
   "cell_type": "code",
   "execution_count": null,
   "metadata": {},
   "outputs": [],
   "source": [
    "model = utils.get_model_from_json(modelpath, \"model.json\")\n",
    "\n",
    "# calculate MAPE and MAE for each left-out patient\n",
    "splitter = LeaveOneGroupOut().split(x_data_train, y_data_train, groups=groups_train)\n",
    "results = []\n",
    "for i, (t_inds, v_inds) in enumerate(splitter):\n",
    "    model.load_weights(os.path.join(modelpath, \"weights-{:02d}.h5\".format(i)))\n",
    "    y_pred = model.predict(x_data_train[v_inds])\n",
    "    y_true = y_data_train[v_inds]\n",
    "    results.append((hr.hr_mape(y_true, y_pred), hr.hr_mae(y_true, y_pred)))\n",
    "results = np.array(results)\n",
    "display(results)"
   ]
  },
  {
   "cell_type": "code",
   "execution_count": null,
   "metadata": {},
   "outputs": [],
   "source": [
    "# train one model on entire training set\n",
    "\n",
    "model = architecture.create(**model_params)\n",
    "r = model.fit(x_data_train, y_data_train, **fit_params)\n",
    "model.save_weights(os.path.join(modelpath, \"final\", \"weights-00.h5\"))\n",
    "tf.keras.backend.clear_session()"
   ]
  }
 ],
 "metadata": {
  "kernelspec": {
   "display_name": "Python 3",
   "language": "python",
   "name": "python3"
  },
  "language_info": {
   "codemirror_mode": {
    "name": "ipython",
    "version": 3
   },
   "file_extension": ".py",
   "mimetype": "text/x-python",
   "name": "python",
   "nbconvert_exporter": "python",
   "pygments_lexer": "ipython3",
   "version": "3.6.8"
  }
 },
 "nbformat": 4,
 "nbformat_minor": 2
}
