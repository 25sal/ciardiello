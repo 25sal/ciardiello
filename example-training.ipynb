{
 "cells": [
  {
   "cell_type": "code",
   "execution_count": 2,
   "metadata": {
    "pycharm": {
     "name": "#%%\n"
    }
   },
   "outputs": [
    {
     "name": "stderr",
     "output_type": "stream",
     "text": [
      "2023-03-06 00:53:15.938550: I tensorflow/core/platform/cpu_feature_guard.cc:193] This TensorFlow binary is optimized with oneAPI Deep Neural Network Library (oneDNN) to use the following CPU instructions in performance-critical operations:  AVX2 FMA\n",
      "To enable them in other operations, rebuild TensorFlow with the appropriate compiler flags.\n",
      "2023-03-06 00:53:16.994734: W tensorflow/compiler/xla/stream_executor/platform/default/dso_loader.cc:64] Could not load dynamic library 'libnvinfer.so.7'; dlerror: libnvinfer.so.7: cannot open shared object file: No such file or directory\n",
      "2023-03-06 00:53:16.994830: W tensorflow/compiler/xla/stream_executor/platform/default/dso_loader.cc:64] Could not load dynamic library 'libnvinfer_plugin.so.7'; dlerror: libnvinfer_plugin.so.7: cannot open shared object file: No such file or directory\n",
      "2023-03-06 00:53:16.994841: W tensorflow/compiler/tf2tensorrt/utils/py_utils.cc:38] TF-TRT Warning: Cannot dlopen some TensorRT libraries. If you would like to use Nvidia GPU with TensorRT, please make sure the missing libraries mentioned above are installed properly.\n"
     ]
    }
   ],
   "source": [
    "import os\n",
    "\n",
    "from joblib import Parallel, delayed\n",
    "import numpy as np\n",
    "import pandas as pd\n",
    "import tensorflow._api.v2.compat.v1 as tf\n",
    "import sklearn\n",
    "from sklearn.model_selection import GroupKFold, LeaveOneGroupOut\n",
    "\n",
    "from models import deeper_fcn as architecture\n",
    "import algorithms.heartrate as hr\n",
    "import utils"
   ]
  },
  {
   "cell_type": "code",
   "execution_count": 2,
   "metadata": {
    "pycharm": {
     "name": "#%%\n"
    }
   },
   "outputs": [],
   "source": [
    "# tensorflow settings\n",
    "tf.logging.set_verbosity(tf.logging.ERROR)\n",
    "config = tf.ConfigProto()\n",
    "config.gpu_options.allow_growth = True\n",
    "tf.keras.backend.set_session(tf.Session(config=config))"
   ]
  },
  {
   "cell_type": "code",
   "execution_count": 6,
   "outputs": [
    {
     "name": "stdout",
     "output_type": "stream",
     "text": [
      "2353324\n",
      "(147082,)\n",
      "[28.4375 17.5625]\n",
      "(2938, 400, 1) (147082,) (1000,)\n"
     ]
    },
    {
     "data": {
      "text/plain": "\"\\n    # read xtrain data from csv of bcg and store in numpy array\\n    data = np.genfromtxt('data/mr1.csv', delimiter=',')\\n    # print the shape of the data\\n    print(data.shape)\\n    data = data[:len(data)-len(data)%400]\\n    # reshape the data to be 2D array with 400 columns and 5 rows   (400, 5)\\n    data = data.reshape( int(len(data)/400), 400)\\n    # print the shape of the data\\n    print(data.shape)\\n    x_train = np.expand_dims(data, axis=2)\\n    data = np.genfromtxt('data/experiments/gold.csv', delimiter=',')\\n    print(len(data))\\n    # compute average each 8 elements in the array\\n    data = data[:len(data)-len(data)%16]\\n    y_train = np.mean(data.reshapvscode-cpptoolse(int(len(data)/16), 16), axis=1)\\n    print(y_train.shape)\\n    # print first 2 rows of the data\\n    print(y_train[:2])\\n\""
     },
     "execution_count": 5,
     "metadata": {},
     "output_type": "execute_result"
    },
    {
     "name": "stdout",
     "output_type": "stream",
     "text": [
      "(1175346,)\n",
      "(2938, 400)\n",
      "2353324\n",
      "(147082,)\n",
      "[28.4375 17.5625]\n",
      "(2938, 400, 1) (147082,) (1000,)\n"
     ]
    },
    {
     "data": {
      "text/plain": "\"\\n    # read xtrain data from csv of bcg and store in numpy array\\n    data = np.genfromtxt('data/mr1.csv', delimiter=',')\\n    # print the shape of the data\\n    print(data.shape)\\n    data = data[:len(data)-len(data)%400]\\n    # reshape the data to be 2D array with 400 columns and 5 rows   (400, 5)\\n    data = data.reshape( int(len(data)/400), 400)\\n    # print the shape of the data\\n    print(data.shape)\\n    x_train = np.expand_dims(data, axis=2)\\n    data = np.genfromtxt('data/experiments/gold.csv', delimiter=',')\\n    print(len(data))\\n    # compute average each 8 elements in the array\\n    data = data[:len(data)-len(data)%16]\\n    y_train = np.mean(data.reshapvscode-cpptoolse(int(len(data)/16), 16), axis=1)\\n    print(y_train.shape)\\n    # print first 2 rows of the data\\n    print(y_train[:2])\\n\""
     },
     "execution_count": 6,
     "metadata": {},
     "output_type": "execute_result"
    }
   ],
   "source": [
    "# load data\n",
    "# x_data_train, y_data_train, groups_train = ...\n",
    "# dummy:\n",
    "modelpath = \"output\"\n",
    "train_size = 1000\n",
    "n_groups = 28\n",
    "data = np.genfromtxt('data/experiments/sleeprawlive.csv', delimiter=',')\n",
    "# print the shape of the data\n",
    "print(data.shape)\n",
    "data = data[:len(data)-len(data)%400]\n",
    "# reshape the data to be 2D array with 400 columns and 5 rows   (400, 5)\n",
    "data = data.reshape( int(len(data)/400), 400)\n",
    "# print the shape of the data\n",
    "print(data.shape)\n",
    "x_data_train = np.expand_dims(data, axis=2)\n",
    "#y_train section\n",
    "data = np.genfromtxt('data/experiments/gold.csv', delimiter=',')\n",
    "print(len(data))\n",
    "# compute average each 8 elements in the array\n",
    "data = data[:len(data)-len(data)%16]\n",
    "y_data_train = np.mean(data.reshape(int(len(data)/16), 16), axis=1)\n",
    "print(y_data_train.shape)\n",
    "# print first 2 rows of the data\n",
    "print(y_data_train[:2])\n",
    "\n",
    "groups_train = np.sort(np.random.randint(n_groups, size=train_size))\n",
    "\n",
    "print(x_data_train.shape, y_data_train.shape, groups_train.shape)\n",
    "\n",
    "#y_data_train = y_data_train.values\n",
    "#x_data_train= x_data_train.values\n",
    "\n"
   ],
   "metadata": {
    "collapsed": false,
    "pycharm": {
     "name": "#%%\n"
    }
   }
  },
  {
   "cell_type": "code",
   "execution_count": null,
   "outputs": [],
   "source": [],
   "metadata": {
    "collapsed": false,
    "pycharm": {
     "name": "#%%\n"
    }
   }
  },
  {
   "cell_type": "code",
   "execution_count": 1,
   "outputs": [
    {
     "ename": "NameError",
     "evalue": "name 'architecture' is not defined",
     "output_type": "error",
     "traceback": [
      "\u001B[0;31m---------------------------------------------------------------------------\u001B[0m",
      "\u001B[0;31mNameError\u001B[0m                                 Traceback (most recent call last)",
      "Cell \u001B[0;32mIn [1], line 5\u001B[0m\n\u001B[1;32m      2\u001B[0m model_params \u001B[38;5;241m=\u001B[39m \u001B[38;5;28mdict\u001B[39m(metrics\u001B[38;5;241m=\u001B[39m[\u001B[38;5;124m\"\u001B[39m\u001B[38;5;124mmae\u001B[39m\u001B[38;5;124m\"\u001B[39m, \u001B[38;5;124m\"\u001B[39m\u001B[38;5;124mmape\u001B[39m\u001B[38;5;124m\"\u001B[39m], enlarge\u001B[38;5;241m=\u001B[39menlarge)\n\u001B[1;32m      3\u001B[0m fit_params \u001B[38;5;241m=\u001B[39m \u001B[38;5;28mdict\u001B[39m(epochs\u001B[38;5;241m=\u001B[39m\u001B[38;5;241m30\u001B[39m, verbose\u001B[38;5;241m=\u001B[39m\u001B[38;5;241m2\u001B[39m)  \u001B[38;5;66;03m# set epochs between 30 and 75\u001B[39;00m\n\u001B[0;32m----> 5\u001B[0m modelname \u001B[38;5;241m=\u001B[39m (architecture\u001B[38;5;241m.\u001B[39m\u001B[38;5;18m__name__\u001B[39m \u001B[38;5;241m+\u001B[39m \u001B[38;5;124m\"\u001B[39m\u001B[38;5;124m-x\u001B[39m\u001B[38;5;132;01m{}\u001B[39;00m\u001B[38;5;124m\"\u001B[39m\u001B[38;5;241m.\u001B[39mformat(enlarge))\n\u001B[1;32m      6\u001B[0m modelpath \u001B[38;5;241m=\u001B[39m os\u001B[38;5;241m.\u001B[39mpath\u001B[38;5;241m.\u001B[39mjoin(\u001B[38;5;124m\"\u001B[39m\u001B[38;5;124moutput\u001B[39m\u001B[38;5;124m\"\u001B[39m, modelname)\n\u001B[1;32m      7\u001B[0m os\u001B[38;5;241m.\u001B[39mmakedirs(os\u001B[38;5;241m.\u001B[39mpath\u001B[38;5;241m.\u001B[39mjoin(modelpath, \u001B[38;5;124m\"\u001B[39m\u001B[38;5;124mfinal\u001B[39m\u001B[38;5;124m\"\u001B[39m), exist_ok\u001B[38;5;241m=\u001B[39m\u001B[38;5;28;01mTrue\u001B[39;00m)\n",
      "\u001B[0;31mNameError\u001B[0m: name 'architecture' is not defined"
     ]
    }
   ],
   "source": [
    "enlarge = 1\n",
    "model_params = dict(metrics=[\"mae\", \"mape\"], enlarge=enlarge)\n",
    "fit_params = dict(epochs=30, verbose=2)  # set epochs between 30 and 75\n",
    "\n",
    "modelname = (architecture.__name__ + \"-x{}\".format(enlarge))\n",
    "modelpath = os.path.join(\"output\", modelname)\n",
    "os.makedirs(os.path.join(modelpath, \"final\"), exist_ok=True)\n",
    "print(modelpath)\n",
    "\n",
    "# write model architecture to JSON file\n",
    "model = architecture.create(**model_params)\n",
    "with open(os.path.join(modelpath, \"model.json\"), \"w\") as fp:\n",
    "    fp.write(model.to_json())"
   ],
   "metadata": {
    "collapsed": false,
    "pycharm": {
     "name": "#%%# single process for parallel training\n"
    }
   }
  },
  {
   "cell_type": "code",
   "execution_count": null,
   "outputs": [],
   "source": [
    "def process_split(xt, yt, i, fit_params):\n",
    "    # set allow_growth in subprocess\n",
    "    config = tf.ConfigProto()\n",
    "    config.gpu_options.allow_growth = True\n",
    "    tf.keras.backend.set_session(tf.Session(config=config))\n",
    "    \n",
    "    csv_path = os.path.join(modelpath, \"logs-{:02d}.csv\".format(i))\n",
    "    weights_path = os.path.join(modelpath, \"weights-{:02d}.h5\".format(i))\n",
    "    fit_params.update(callbacks=[tf.keras.callbacks.CSVLogger(csv_path)])\n",
    "    \n",
    "    model = architecture.create(**model_params)\n",
    "    r = model.fit(xt, yt, **fit_params)\n",
    "    \n",
    "    model.save_weights(weights_path)\n",
    "    tf.keras.backend.clear_session()\n",
    "\n",
    "    return r.history"
   ],
   "metadata": {
    "collapsed": false,
    "pycharm": {
     "name": "#%%\n"
    }
   }
  },
  {
   "cell_type": "code",
   "execution_count": 8,
   "metadata": {
    "pycharm": {
     "name": "#%%\n"
    }
   },
   "outputs": [],
   "source": [
    "# split training data with LeaveOneGroupOut cross validation\n",
    "splitter = utils.get_group_splitter(n_groups, groups_train)"
   ]
  },
  {
   "cell_type": "code",
   "execution_count": 9,
   "outputs": [
    {
     "ename": "FileNotFoundError",
     "evalue": "[Errno 2] No such file or directory: 'output/model.json'",
     "output_type": "error",
     "traceback": [
      "\u001B[0;31m---------------------------------------------------------------------------\u001B[0m",
      "\u001B[0;31mFileNotFoundError\u001B[0m                         Traceback (most recent call last)",
      "Cell \u001B[0;32mIn [9], line 1\u001B[0m\n\u001B[0;32m----> 1\u001B[0m model \u001B[38;5;241m=\u001B[39m utils\u001B[38;5;241m.\u001B[39mget_model_from_json(modelpath, \u001B[38;5;124m\"\u001B[39m\u001B[38;5;124mmodel.json\u001B[39m\u001B[38;5;124m\"\u001B[39m)\n\u001B[1;32m      3\u001B[0m \u001B[38;5;66;03m# calculate MAPE and MAE for each left-out patient\u001B[39;00m\n\u001B[1;32m      4\u001B[0m splitter \u001B[38;5;241m=\u001B[39m LeaveOneGroupOut()\u001B[38;5;241m.\u001B[39msplit(x_data_train, y_data_train, groups\u001B[38;5;241m=\u001B[39mgroups_train)\n",
      "File \u001B[0;32m~/development/git/ciardiello/utils.py:40\u001B[0m, in \u001B[0;36mget_model_from_json\u001B[0;34m(modelpath, filename)\u001B[0m\n\u001B[1;32m     28\u001B[0m \u001B[38;5;28;01mdef\u001B[39;00m \u001B[38;5;21mget_model_from_json\u001B[39m(modelpath, filename\u001B[38;5;241m=\u001B[39m\u001B[38;5;124m\"\u001B[39m\u001B[38;5;124mmodel.json\u001B[39m\u001B[38;5;124m\"\u001B[39m):\n\u001B[1;32m     29\u001B[0m     \u001B[38;5;124;03m\"\"\"Read model architecture from JSON and return\u001B[39;00m\n\u001B[1;32m     30\u001B[0m \u001B[38;5;124;03m    keras model\u001B[39;00m\n\u001B[1;32m     31\u001B[0m \u001B[38;5;124;03m    \u001B[39;00m\n\u001B[0;32m   (...)\u001B[0m\n\u001B[1;32m     37\u001B[0m \u001B[38;5;124;03m        `keras model`: uninitialized keras model\u001B[39;00m\n\u001B[1;32m     38\u001B[0m \u001B[38;5;124;03m    \"\"\"\u001B[39;00m\n\u001B[0;32m---> 40\u001B[0m     \u001B[38;5;28;01mwith\u001B[39;00m \u001B[38;5;28;43mopen\u001B[39;49m\u001B[43m(\u001B[49m\u001B[43mos\u001B[49m\u001B[38;5;241;43m.\u001B[39;49m\u001B[43mpath\u001B[49m\u001B[38;5;241;43m.\u001B[39;49m\u001B[43mjoin\u001B[49m\u001B[43m(\u001B[49m\u001B[43mmodelpath\u001B[49m\u001B[43m,\u001B[49m\u001B[43m \u001B[49m\u001B[43mfilename\u001B[49m\u001B[43m)\u001B[49m\u001B[43m,\u001B[49m\u001B[43m \u001B[49m\u001B[38;5;124;43m\"\u001B[39;49m\u001B[38;5;124;43mr\u001B[39;49m\u001B[38;5;124;43m\"\u001B[39;49m\u001B[43m)\u001B[49m \u001B[38;5;28;01mas\u001B[39;00m fp:\n\u001B[1;32m     41\u001B[0m         model_json \u001B[38;5;241m=\u001B[39m fp\u001B[38;5;241m.\u001B[39mread()\n\u001B[1;32m     42\u001B[0m     \u001B[38;5;28;01mreturn\u001B[39;00m tf\u001B[38;5;241m.\u001B[39mkeras\u001B[38;5;241m.\u001B[39mmodels\u001B[38;5;241m.\u001B[39mmodel_from_json(model_json)\n",
      "\u001B[0;31mFileNotFoundError\u001B[0m: [Errno 2] No such file or directory: 'output/model.json'"
     ]
    }
   ],
   "source": [
    "model = utils.get_model_from_json(modelpath, \"model.json\")\n",
    "\n",
    "# calculate MAPE and MAE for each left-out patient\n",
    "splitter = LeaveOneGroupOut().split(x_data_train, y_data_train, groups=groups_train)\n",
    "results = []\n",
    "for i, (t_inds, v_inds) in enumerate(splitter):\n",
    "    model.load_weights(os.path.join(modelpath, \"weights-{:02d}.h5\".format(i)))\n",
    "    y_pred = model.predict(x_data_train[v_inds])\n",
    "    y_true = y_data_train[v_inds]\n",
    "    results.append((hr.hr_mape(y_true, y_pred), hr.hr_mae(y_true, y_pred)))\n",
    "results = np.array(results)\n",
    "print(results)"
   ],
   "metadata": {
    "collapsed": false,
    "pycharm": {
     "name": "#%%\n"
    }
   }
  },
  {
   "cell_type": "code",
   "execution_count": null,
   "outputs": [],
   "source": [
    "# train one model on entire training set\n",
    "\n",
    "model = architecture.create(**model_params)\n",
    "r = model.fit(x_data_train, y_data_train, **fit_params)\n",
    "model.save_weights(os.path.join(modelpath, \"final\", \"weights-00.h5\"))\n",
    "tf.keras.backend.clear_session()"
   ],
   "metadata": {
    "collapsed": false,
    "pycharm": {
     "name": "#%%\n"
    }
   }
  },
  {
   "cell_type": "code",
   "execution_count": null,
   "outputs": [],
   "source": [],
   "metadata": {
    "collapsed": false,
    "pycharm": {
     "name": "#%%\n"
    }
   }
  }
 ],
 "metadata": {
  "kernelspec": {
   "display_name": "Python 3",
   "language": "python",
   "name": "python3"
  },
  "language_info": {
   "codemirror_mode": {
    "name": "ipython",
    "version": 3
   },
   "file_extension": ".py",
   "mimetype": "text/x-python",
   "name": "python",
   "nbconvert_exporter": "python",
   "pygments_lexer": "ipython3",
   "version": "3.6.8"
  }
 },
 "nbformat": 4,
 "nbformat_minor": 2
}