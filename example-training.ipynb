{
 "cells": [
  {
   "cell_type": "code",
   "execution_count": 1,
   "metadata": {},
   "outputs": [],
   "source": [
    "import os\n",
    "\n",
    "from joblib import Parallel, delayed\n",
    "import numpy as np\n",
    "import pandas as pd\n",
    "import tensorflow as tf\n",
    "import sklearn\n",
    "from sklearn.model_selection import GroupKFold, LeaveOneGroupOut\n",
    "\n",
    "from models import deeper_fcn as architecture\n",
    "import algorithms.heartrate as hr\n",
    "import utils"
   ]
  },
  {
   "cell_type": "code",
   "execution_count": 2,
   "metadata": {},
   "outputs": [],
   "source": [
    "# tensorflow settings\n",
    "tf.logging.set_verbosity(tf.logging.ERROR)\n",
    "config = tf.ConfigProto()\n",
    "config.gpu_options.allow_growth = True\n",
    "tf.keras.backend.set_session(tf.Session(config=config))"
   ]
  },
  {
   "cell_type": "code",
   "execution_count": 3,
   "metadata": {},
   "outputs": [
    {
     "name": "stdout",
     "output_type": "stream",
     "text": [
      "(10000, 400, 1) (10000,) (10000,)\n"
     ]
    }
   ],
   "source": [
    "# load data\n",
    "# x_data_train, y_data_train, groups_train = ...\n",
    "# dummy:\n",
    "train_size = 10000\n",
    "n_groups = 28\n",
    "x_data_train = np.random.normal(size=(train_size, 400, 1))\n",
    "y_data_train = np.random.normal(loc=68, scale=10, size=(train_size,))\n",
    "groups_train = np.sort(np.random.randint(n_groups, size=train_size))\n",
    "\n",
    "print(x_data_train.shape, y_data_train.shape, groups_train.shape)"
   ]
  },
  {
   "cell_type": "code",
   "execution_count": 4,
   "metadata": {},
   "outputs": [],
   "source": [
    "enlarge = 1\n",
    "model_params = dict(metrics=[\"mae\", \"mape\"], enlarge=enlarge)\n",
    "fit_params = dict(epochs=1, verbose=2)  # set epochs between 30 and 75\n",
    "\n",
    "modelname = (architecture.__name__ + \"-x{}\".format(enlarge))\n",
    "modelpath = os.path.join(\"output\", modelname)\n",
    "os.makedirs(os.path.join(modelpath, \"final\"), exist_ok=True)\n",
    "\n",
    "# write model architecture to JSON file\n",
    "model = architecture.create(**model_params)\n",
    "with open(os.path.join(modelpath, \"model.json\"), \"w\") as fp:\n",
    "    fp.write(model.to_json())"
   ]
  },
  {
   "cell_type": "code",
   "execution_count": 5,
   "metadata": {},
   "outputs": [],
   "source": [
    "# single process for parallel training\n",
    "def process_split(xt, yt, i, fit_params):\n",
    "    # set allow_growth in subprocess\n",
    "    import tensorflow as tf\n",
    "    config = tf.ConfigProto()\n",
    "    config.gpu_options.allow_growth = True\n",
    "    tf.keras.backend.set_session(tf.Session(config=config))\n",
    "    \n",
    "    csv_path = os.path.join(modelpath, \"logs-{:02d}.csv\".format(i))\n",
    "    weights_path = os.path.join(modelpath, \"weights-{:02d}.h5\".format(i))\n",
    "    fit_params.update(callbacks=[tf.keras.callbacks.CSVLogger(csv_path)])\n",
    "    \n",
    "    model = architecture.create(**model_params)\n",
    "    r = model.fit(xt, yt, **fit_params)\n",
    "    \n",
    "    model.save_weights(weights_path)\n",
    "    tf.keras.backend.clear_session()\n",
    "\n",
    "    return r.history"
   ]
  },
  {
   "cell_type": "code",
   "execution_count": 6,
   "metadata": {},
   "outputs": [],
   "source": [
    "# split training data with LeaveOneGroupOut cross validation\n",
    "splitter = utils.get_group_splitter(n_groups, groups_train)"
   ]
  },
  {
   "cell_type": "code",
   "execution_count": 7,
   "metadata": {},
   "outputs": [
    {
     "name": "stderr",
     "output_type": "stream",
     "text": [
      "[Parallel(n_jobs=3)]: Using backend LokyBackend with 3 concurrent workers.\n",
      "[Parallel(n_jobs=3)]: Done   2 tasks      | elapsed:   13.1s\n",
      "[Parallel(n_jobs=3)]: Done   7 tasks      | elapsed:   33.6s\n",
      "[Parallel(n_jobs=3)]: Done  12 tasks      | elapsed:   44.1s\n",
      "[Parallel(n_jobs=3)]: Done  19 tasks      | elapsed:  1.2min\n",
      "[Parallel(n_jobs=3)]: Done  26 out of  28 | elapsed:  1.6min remaining:    7.4s\n",
      "[Parallel(n_jobs=3)]: Done  28 out of  28 | elapsed:  1.8min finished\n"
     ]
    }
   ],
   "source": [
    "rs = Parallel(n_jobs=3, verbose=10)(\n",
    "    delayed(process_split)(x_data_train[t_inds], y_data_train[t_inds],\n",
    "                           i, fit_params)\n",
    "    for i, (t_inds, v_inds) in enumerate(splitter)\n",
    ")"
   ]
  },
  {
   "cell_type": "code",
   "execution_count": 8,
   "metadata": {},
   "outputs": [
    {
     "data": {
      "text/plain": [
       "array([[12.06516994,  7.90923906],\n",
       "       [12.24843843,  7.97319389],\n",
       "       [13.54572565,  8.56025441],\n",
       "       [12.43106642,  8.09660937],\n",
       "       [12.89235405,  8.46224464],\n",
       "       [12.84064371,  8.29353937],\n",
       "       [13.92926378,  8.83020024],\n",
       "       [12.83810673,  8.17103714],\n",
       "       [14.00564411,  8.93944474],\n",
       "       [12.99247063,  8.42603769],\n",
       "       [12.52689613,  7.99825266],\n",
       "       [13.00469643,  8.66117743],\n",
       "       [12.38614354,  8.30037064],\n",
       "       [11.7570788 ,  7.55882427],\n",
       "       [12.86287047,  8.21690826],\n",
       "       [13.008025  ,  8.29714316],\n",
       "       [12.22924466,  7.74526836],\n",
       "       [13.07709925,  8.48293472],\n",
       "       [12.38936716,  8.12894619],\n",
       "       [14.13572796,  9.28046742],\n",
       "       [11.78294899,  7.72729171],\n",
       "       [11.9294967 ,  7.92972904],\n",
       "       [12.07058457,  7.85185918],\n",
       "       [12.63426889,  8.08966374],\n",
       "       [13.71262795,  8.87422151],\n",
       "       [13.19405335,  8.66145986],\n",
       "       [12.87355714,  8.39588449],\n",
       "       [12.72016255,  8.18050985]])"
      ]
     },
     "metadata": {},
     "output_type": "display_data"
    }
   ],
   "source": [
    "model = utils.get_model_from_json(modelpath, \"model.json\")\n",
    "\n",
    "# calculate MAPE and MAE for each left-out patient\n",
    "splitter = LeaveOneGroupOut().split(x_data_train, y_data_train, groups=groups_train)\n",
    "results = []\n",
    "for i, (t_inds, v_inds) in enumerate(splitter):\n",
    "    model.load_weights(os.path.join(modelpath, \"weights-{:02d}.h5\".format(i)))\n",
    "    y_pred = model.predict(x_data_train[v_inds])\n",
    "    y_true = y_data_train[v_inds]\n",
    "    results.append((hr.hr_mape(y_true, y_pred), hr.hr_mae(y_true, y_pred)))\n",
    "results = np.array(results)\n",
    "display(results)"
   ]
  },
  {
   "cell_type": "code",
   "execution_count": 9,
   "metadata": {},
   "outputs": [
    {
     "name": "stdout",
     "output_type": "stream",
     "text": [
      " - 7s - loss: 532.3504 - mean_absolute_error: 15.4585 - mean_absolute_percentage_error: 23.5018\n"
     ]
    }
   ],
   "source": [
    "# train one model on entire training set\n",
    "\n",
    "model = architecture.create(**model_params)\n",
    "r = model.fit(x_data_train, y_data_train, **fit_params)\n",
    "model.save_weights(os.path.join(modelpath, \"final\", \"weights-00.h5\"))\n",
    "tf.keras.backend.clear_session()"
   ]
  }
 ],
 "metadata": {
  "kernelspec": {
   "display_name": "Python 3",
   "language": "python",
   "name": "python3"
  },
  "language_info": {
   "codemirror_mode": {
    "name": "ipython",
    "version": 3
   },
   "file_extension": ".py",
   "mimetype": "text/x-python",
   "name": "python",
   "nbconvert_exporter": "python",
   "pygments_lexer": "ipython3",
   "version": "3.6.8"
  }
 },
 "nbformat": 4,
 "nbformat_minor": 2
}
