{
 "cells": [
  {
   "cell_type": "code",
   "execution_count": 1,
   "metadata": {
    "pycharm": {
     "name": "#%%\n"
    }
   },
   "outputs": [],
   "source": [
    "import os\n",
    "\n",
    "from joblib import Parallel, delayed\n",
    "import numpy as np\n",
    "import pandas as pd\n",
    "import tensorflow._api.v2.compat.v1 as tf\n",
    "import sklearn\n",
    "from sklearn.model_selection import GroupKFold, LeaveOneGroupOut\n",
    "\n",
    "from models import deeper_fcn as architecture\n",
    "import algorithms.heartrate as hr\n",
    "import utils"
   ]
  },
  {
   "cell_type": "code",
   "execution_count": 2,
   "metadata": {
    "pycharm": {
     "name": "#%%\n"
    }
   },
   "outputs": [],
   "source": [
    "# tensorflow settings\n",
    "tf.logging.set_verbosity(tf.logging.ERROR)\n",
    "config = tf.ConfigProto()\n",
    "config.gpu_options.allow_growth = True\n",
    "tf.keras.backend.set_session(tf.Session(config=config))"
   ]
  },
  {
   "cell_type": "code",
   "execution_count": 12,
   "metadata": {
    "pycharm": {
     "name": "#%%\n"
    }
   },
   "outputs": [
    {
     "name": "stdout",
     "output_type": "stream",
     "text": [
      "(400000,)\n",
      "(1000, 400)\n",
      "16000\n",
      "(1000,)\n",
      "[39.75  35.375]\n",
      "(1000, 400, 1) (1000,) (1000,)\n"
     ]
    },
    {
     "data": {
      "text/plain": "\"\\n# read xtrain data from csv of bcg and store in numpy array\\ndata = np.genfromtxt('data/mr1.csv', delimiter=',')\\n# print the shape of the data\\nprint(data.shape)\\ndata = data[:len(data)-len(data)%400]\\n# reshape the data to be 2D array with 400 columns and 5 rows   (400, 5)\\ndata = data.reshape( int(len(data)/400), 400)\\n# print the shape of the data\\nprint(data.shape)\\nx_train = np.expand_dims(data, axis=2)\\ndata = np.genfromtxt('data/gold.csv', delimiter=',')\\nprint(len(data))\\n# compute average each 8 elements in the array\\ndata = data[:len(data)-len(data)%16]\\ny_train = np.mean(data.reshape(int(len(data)/16), 16), axis=1)\\nprint(y_train.shape)\\n# print first 2 rows of the data\\nprint(y_train[:2])\""
     },
     "execution_count": 12,
     "metadata": {},
     "output_type": "execute_result"
    }
   ],
   "source": [
    "# load data\n",
    "# x_data_train, y_data_train, groups_train = ...\n",
    "# dummy:\n",
    "train_size = 1000\n",
    "n_groups = 28\n",
    "data = np.genfromtxt('C:/Users/dario/Desktop/pr1/1000x400/datatrain.csv', delimiter=',')\n",
    "# print the shape of the data\n",
    "print(data.shape)\n",
    "data = data[:len(data)-len(data)%400]\n",
    "# reshape the data to be 2D array with 400 columns and 5 rows   (400, 5)\n",
    "data = data.reshape( int(len(data)/400), 400)\n",
    "# print the shape of the data\n",
    "print(data.shape)\n",
    "x_data_train = np.expand_dims(data, axis=2)\n",
    "#y_train section\n",
    "data = np.genfromtxt('C:/Users/dario/Desktop/pr1/1000x400/gold/gold.csv', delimiter=',')\n",
    "print(len(data))\n",
    "# compute average each 8 elements in the array\n",
    "data = data[:len(data)-len(data)%16]\n",
    "y_data_train = np.mean(data.reshape(int(len(data)/16), 16), axis=1)\n",
    "print(y_data_train.shape)\n",
    "# print first 2 rows of the data\n",
    "print(y_data_train[:2])\n",
    "\n",
    "groups_train = np.sort(np.random.randint(n_groups, size=train_size))\n",
    "\n",
    "print(x_data_train.shape, y_data_train.shape, groups_train.shape)\n",
    "\n",
    "#y_data_train = y_data_train.values\n",
    "#x_data_train= x_data_train.values\n",
    "\n",
    "'''\n",
    "# read xtrain data from csv of bcg and store in numpy array\n",
    "data = np.genfromtxt('data/mr1.csv', delimiter=',')\n",
    "# print the shape of the data\n",
    "print(data.shape)\n",
    "data = data[:len(data)-len(data)%400]\n",
    "# reshape the data to be 2D array with 400 columns and 5 rows   (400, 5)\n",
    "data = data.reshape( int(len(data)/400), 400)\n",
    "# print the shape of the data\n",
    "print(data.shape)\n",
    "x_train = np.expand_dims(data, axis=2)\n",
    "data = np.genfromtxt('data/gold.csv', delimiter=',')\n",
    "print(len(data))\n",
    "# compute average each 8 elements in the array\n",
    "data = data[:len(data)-len(data)%16]\n",
    "y_train = np.mean(data.reshape(int(len(data)/16), 16), axis=1)\n",
    "print(y_train.shape)\n",
    "# print first 2 rows of the data\n",
    "print(y_train[:2])'''"
   ]
  },
  {
   "cell_type": "code",
   "execution_count": 13,
   "metadata": {
    "pycharm": {
     "name": "#%%\n"
    }
   },
   "outputs": [
    {
     "name": "stdout",
     "output_type": "stream",
     "text": [
      "output\\models.deeper_fcn-x1\n"
     ]
    }
   ],
   "source": [
    "enlarge = 1\n",
    "model_params = dict(metrics=[\"mae\", \"mape\"], enlarge=enlarge)\n",
    "fit_params = dict(epochs=30, verbose=2)  # set epochs between 30 and 75\n",
    "\n",
    "modelname = (architecture.__name__ + \"-x{}\".format(enlarge))\n",
    "modelpath = os.path.join(\"output\", modelname)\n",
    "os.makedirs(os.path.join(modelpath, \"final\"), exist_ok=True)\n",
    "print(modelpath)\n",
    "\n",
    "# write model architecture to JSON file\n",
    "model = architecture.create(**model_params)\n",
    "with open(os.path.join(modelpath, \"model.json\"), \"w\") as fp:\n",
    "    fp.write(model.to_json())"
   ]
  },
  {
   "cell_type": "code",
   "execution_count": 14,
   "metadata": {
    "pycharm": {
     "name": "#%%\n"
    }
   },
   "outputs": [],
   "source": [
    "# single process for parallel training\n",
    "def process_split(xt, yt, i, fit_params):\n",
    "    # set allow_growth in subprocess\n",
    "    config = tf.ConfigProto()\n",
    "    config.gpu_options.allow_growth = True\n",
    "    tf.keras.backend.set_session(tf.Session(config=config))\n",
    "    \n",
    "    csv_path = os.path.join(modelpath, \"logs-{:02d}.csv\".format(i))\n",
    "    weights_path = os.path.join(modelpath, \"weights-{:02d}.h5\".format(i))\n",
    "    fit_params.update(callbacks=[tf.keras.callbacks.CSVLogger(csv_path)])\n",
    "    \n",
    "    model = architecture.create(**model_params)\n",
    "    r = model.fit(xt, yt, **fit_params)\n",
    "    \n",
    "    model.save_weights(weights_path)\n",
    "    tf.keras.backend.clear_session()\n",
    "\n",
    "    return r.history"
   ]
  },
  {
   "cell_type": "code",
   "execution_count": 15,
   "metadata": {
    "pycharm": {
     "name": "#%%\n"
    }
   },
   "outputs": [],
   "source": [
    "# split training data with LeaveOneGroupOut cross validation\n",
    "splitter = utils.get_group_splitter(n_groups, groups_train)"
   ]
  },
  {
   "cell_type": "code",
   "execution_count": 16,
   "metadata": {
    "pycharm": {
     "name": "#%%\n"
    }
   },
   "outputs": [
    {
     "name": "stderr",
     "output_type": "stream",
     "text": [
      "[Parallel(n_jobs=4)]: Using backend LokyBackend with 4 concurrent workers.\n",
      "[Parallel(n_jobs=4)]: Done   5 tasks      | elapsed:  5.1min\n",
      "[Parallel(n_jobs=4)]: Done  10 tasks      | elapsed:  6.2min\n",
      "[Parallel(n_jobs=4)]: Done  17 tasks      | elapsed:  8.3min\n",
      "[Parallel(n_jobs=4)]: Done  24 out of  28 | elapsed:  9.7min remaining:  1.6min\n",
      "[Parallel(n_jobs=4)]: Done  28 out of  28 | elapsed: 10.7min finished\n"
     ]
    }
   ],
   "source": [
    "rs = Parallel(n_jobs=4, verbose=10)(\n",
    "    delayed(process_split)(x_data_train[t_inds], y_data_train[t_inds],\n",
    "                           i, fit_params)\n",
    "    for i, (t_inds, v_inds) in enumerate(splitter)\n",
    ")"
   ]
  },
  {
   "cell_type": "code",
   "execution_count": 19,
   "metadata": {
    "pycharm": {
     "name": "#%%\n"
    }
   },
   "outputs": [
    {
     "name": "stdout",
     "output_type": "stream",
     "text": [
      "2/2 [==============================] - 3s 97ms/step\n",
      "2/2 [==============================] - 0s 7ms/step\n",
      "2/2 [==============================] - 0s 15ms/step\n",
      "2/2 [==============================] - 0s 5ms/step\n",
      "2/2 [==============================] - 0s 6ms/step\n",
      "2/2 [==============================] - 0s 37ms/step\n",
      "2/2 [==============================] - 0s 6ms/step\n",
      "1/1 [==============================] - 0s 38ms/step\n",
      "1/1 [==============================] - 0s 33ms/step\n",
      "2/2 [==============================] - 0s 5ms/step\n",
      "1/1 [==============================] - 0s 26ms/step\n",
      "2/2 [==============================] - 0s 6ms/step\n",
      "2/2 [==============================] - 0s 7ms/step\n",
      "2/2 [==============================] - 0s 5ms/step\n",
      "2/2 [==============================] - 0s 8ms/step\n",
      "1/1 [==============================] - 0s 77ms/step\n",
      "1/1 [==============================] - 0s 33ms/step\n",
      "2/2 [==============================] - 0s 4ms/step\n",
      "2/2 [==============================] - 0s 5ms/step\n",
      "2/2 [==============================] - 0s 5ms/step\n",
      "2/2 [==============================] - 0s 5ms/step\n",
      "2/2 [==============================] - 0s 19ms/step\n",
      "2/2 [==============================] - 0s 4ms/step\n",
      "1/1 [==============================] - 0s 31ms/step\n",
      "2/2 [==============================] - 0s 4ms/step\n",
      "2/2 [==============================] - 0s 5ms/step\n",
      "1/1 [==============================] - 0s 27ms/step\n",
      "1/1 [==============================] - 0s 28ms/step\n"
     ]
    },
    {
     "data": {
      "text/plain": "array([[-1, -1],\n       [-1, -1],\n       [-1, -1],\n       [-1, -1],\n       [-1, -1],\n       [-1, -1],\n       [-1, -1],\n       [-1, -1],\n       [-1, -1],\n       [-1, -1],\n       [-1, -1],\n       [-1, -1],\n       [-1, -1],\n       [-1, -1],\n       [-1, -1],\n       [-1, -1],\n       [-1, -1],\n       [-1, -1],\n       [-1, -1],\n       [-1, -1],\n       [-1, -1],\n       [-1, -1],\n       [-1, -1],\n       [-1, -1],\n       [-1, -1],\n       [-1, -1],\n       [-1, -1],\n       [-1, -1]])"
     },
     "metadata": {},
     "output_type": "display_data"
    }
   ],
   "source": [
    "model = utils.get_model_from_json(modelpath, \"model.json\")\n",
    "\n",
    "# calculate MAPE and MAE for each left-out patient\n",
    "splitter = LeaveOneGroupOut().split(x_data_train, y_data_train, groups=groups_train)\n",
    "results = []\n",
    "for i, (t_inds, v_inds) in enumerate(splitter):\n",
    "    model.load_weights(os.path.join(modelpath, \"weights-{:02d}.h5\".format(i)))\n",
    "    y_pred = model.predict(x_data_train[v_inds])\n",
    "    y_true = y_data_train[v_inds]\n",
    "    results.append((hr.hr_mape(y_true, y_pred), hr.hr_mae(y_true, y_pred)))\n",
    "results = np.array(results)\n",
    "display(results)"
   ]
  },
  {
   "cell_type": "code",
   "execution_count": 18,
   "outputs": [
    {
     "name": "stdout",
     "output_type": "stream",
     "text": [
      "Epoch 1/30\n",
      "32/32 - 3s - loss: nan - mae: nan - mape: nan - 3s/epoch - 109ms/step\n",
      "Epoch 2/30\n",
      "32/32 - 1s - loss: nan - mae: nan - mape: nan - 747ms/epoch - 23ms/step\n",
      "Epoch 3/30\n",
      "32/32 - 1s - loss: nan - mae: nan - mape: nan - 717ms/epoch - 22ms/step\n",
      "Epoch 4/30\n",
      "32/32 - 1s - loss: nan - mae: nan - mape: nan - 720ms/epoch - 22ms/step\n",
      "Epoch 5/30\n",
      "32/32 - 1s - loss: nan - mae: nan - mape: nan - 718ms/epoch - 22ms/step\n",
      "Epoch 6/30\n",
      "32/32 - 1s - loss: nan - mae: nan - mape: nan - 720ms/epoch - 22ms/step\n",
      "Epoch 7/30\n",
      "32/32 - 1s - loss: nan - mae: nan - mape: nan - 707ms/epoch - 22ms/step\n",
      "Epoch 8/30\n",
      "32/32 - 1s - loss: nan - mae: nan - mape: nan - 711ms/epoch - 22ms/step\n",
      "Epoch 9/30\n",
      "32/32 - 1s - loss: nan - mae: nan - mape: nan - 702ms/epoch - 22ms/step\n",
      "Epoch 10/30\n",
      "32/32 - 1s - loss: nan - mae: nan - mape: nan - 806ms/epoch - 25ms/step\n",
      "Epoch 11/30\n",
      "32/32 - 1s - loss: nan - mae: nan - mape: nan - 944ms/epoch - 29ms/step\n",
      "Epoch 12/30\n",
      "32/32 - 1s - loss: nan - mae: nan - mape: nan - 957ms/epoch - 30ms/step\n",
      "Epoch 13/30\n",
      "32/32 - 1s - loss: nan - mae: nan - mape: nan - 959ms/epoch - 30ms/step\n",
      "Epoch 14/30\n",
      "32/32 - 1s - loss: nan - mae: nan - mape: nan - 829ms/epoch - 26ms/step\n",
      "Epoch 15/30\n",
      "32/32 - 1s - loss: nan - mae: nan - mape: nan - 718ms/epoch - 22ms/step\n",
      "Epoch 16/30\n",
      "32/32 - 1s - loss: nan - mae: nan - mape: nan - 709ms/epoch - 22ms/step\n",
      "Epoch 17/30\n",
      "32/32 - 1s - loss: nan - mae: nan - mape: nan - 753ms/epoch - 24ms/step\n",
      "Epoch 18/30\n",
      "32/32 - 1s - loss: nan - mae: nan - mape: nan - 759ms/epoch - 24ms/step\n",
      "Epoch 19/30\n",
      "32/32 - 1s - loss: nan - mae: nan - mape: nan - 739ms/epoch - 23ms/step\n",
      "Epoch 20/30\n",
      "32/32 - 1s - loss: nan - mae: nan - mape: nan - 709ms/epoch - 22ms/step\n",
      "Epoch 21/30\n",
      "32/32 - 1s - loss: nan - mae: nan - mape: nan - 720ms/epoch - 22ms/step\n",
      "Epoch 22/30\n",
      "32/32 - 1s - loss: nan - mae: nan - mape: nan - 766ms/epoch - 24ms/step\n",
      "Epoch 23/30\n",
      "32/32 - 1s - loss: nan - mae: nan - mape: nan - 767ms/epoch - 24ms/step\n",
      "Epoch 24/30\n",
      "32/32 - 1s - loss: nan - mae: nan - mape: nan - 761ms/epoch - 24ms/step\n",
      "Epoch 25/30\n",
      "32/32 - 1s - loss: nan - mae: nan - mape: nan - 768ms/epoch - 24ms/step\n",
      "Epoch 26/30\n",
      "32/32 - 1s - loss: nan - mae: nan - mape: nan - 748ms/epoch - 23ms/step\n",
      "Epoch 27/30\n",
      "32/32 - 1s - loss: nan - mae: nan - mape: nan - 747ms/epoch - 23ms/step\n",
      "Epoch 28/30\n",
      "32/32 - 1s - loss: nan - mae: nan - mape: nan - 742ms/epoch - 23ms/step\n",
      "Epoch 29/30\n",
      "32/32 - 1s - loss: nan - mae: nan - mape: nan - 743ms/epoch - 23ms/step\n",
      "Epoch 30/30\n",
      "32/32 - 1s - loss: nan - mae: nan - mape: nan - 745ms/epoch - 23ms/step\n"
     ]
    }
   ],
   "source": [
    "# train one model on entire training set\n",
    "\n",
    "model = architecture.create(**model_params)\n",
    "r = model.fit(x_data_train, y_data_train, **fit_params)\n",
    "model.save_weights(os.path.join(modelpath, \"final\", \"weights-00.h5\"))\n",
    "tf.keras.backend.clear_session()"
   ],
   "metadata": {
    "collapsed": false,
    "pycharm": {
     "name": "#%%\n"
    }
   }
  },
  {
   "cell_type": "code",
   "execution_count": null,
   "outputs": [],
   "source": [],
   "metadata": {
    "collapsed": false,
    "pycharm": {
     "name": "#%%\n"
    }
   }
  }
 ],
 "metadata": {
  "kernelspec": {
   "display_name": "Python 3",
   "language": "python",
   "name": "python3"
  },
  "language_info": {
   "codemirror_mode": {
    "name": "ipython",
    "version": 3
   },
   "file_extension": ".py",
   "mimetype": "text/x-python",
   "name": "python",
   "nbconvert_exporter": "python",
   "pygments_lexer": "ipython3",
   "version": "3.6.8"
  }
 },
 "nbformat": 4,
 "nbformat_minor": 2
}