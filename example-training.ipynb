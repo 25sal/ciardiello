{
 "cells": [
  {
   "cell_type": "code",
   "execution_count": 6,
   "metadata": {
    "pycharm": {
     "name": "#%%\n"
    }
   },
   "outputs": [],
   "source": [
    "import os\n",
    "\n",
    "from joblib import Parallel, delayed\n",
    "import numpy as np\n",
    "import pandas as pd\n",
    "import tensorflow._api.v2.compat.v1 as tf\n",
    "import sklearn\n",
    "from sklearn.model_selection import GroupKFold, LeaveOneGroupOut\n",
    "\n",
    "from models import deeper_fcn as architecture\n",
    "import algorithms.heartrate as hr\n",
    "import utils"
   ]
  },
  {
   "cell_type": "code",
   "execution_count": 7,
   "metadata": {
    "pycharm": {
     "name": "#%%\n"
    }
   },
   "outputs": [],
   "source": [
    "# tensorflow settings\n",
    "tf.logging.set_verbosity(tf.logging.ERROR)\n",
    "config = tf.ConfigProto()\n",
    "config.gpu_options.allow_growth = True\n",
    "tf.keras.backend.set_session(tf.Session(config=config))"
   ]
  },
  {
   "cell_type": "code",
   "execution_count": 8,
   "outputs": [
    {
     "name": "stdout",
     "output_type": "stream",
     "text": [
      "(1175346,)\n",
      "(2938, 400)\n",
      "2353324\n",
      "(147082,)\n",
      "[28.4375 17.5625]\n",
      "(2938, 400, 1) (147082,) (1000,)\n"
     ]
    }
   ],
   "source": [
    "# load data\n",
    "# x_data_train, y_data_train, groups_train = ...\n",
    "# dummy:\n",
    "modelpath = \"output\"\n",
    "train_size = 1000\n",
    "n_groups = 28\n",
    "data = np.genfromtxt('data/experiments/sleeprawlive.csv', delimiter=',')\n",
    "# print the shape of the data\n",
    "print(data.shape)\n",
    "data = data[:len(data)-len(data)%400]\n",
    "# reshape the data to be 2D array with 400 columns and 5 rows   (400, 5)\n",
    "data = data.reshape( int(len(data)/400), 400)\n",
    "# print the shape of the data\n",
    "print(data.shape)\n",
    "x_data_train = np.expand_dims(data, axis=2)\n",
    "#y_train section\n",
    "data = np.genfromtxt('data/experiments/gold.csv', delimiter=',')\n",
    "print(len(data))\n",
    "# compute average each 8 elements in the array\n",
    "data = data[:len(data)-len(data)%16]\n",
    "y_data_train = np.mean(data.reshape(int(len(data)/16), 16), axis=1)\n",
    "print(y_data_train.shape)\n",
    "# print first 2 rows of the data\n",
    "print(y_data_train[:2])\n",
    "\n",
    "groups_train = np.sort(np.random.randint(n_groups, size=train_size))\n",
    "\n",
    "print(x_data_train.shape, y_data_train.shape, groups_train.shape)\n",
    "\n",
    "#y_data_train = y_data_train.values\n",
    "#x_data_train= x_data_train.values\n",
    "\n"
   ],
   "metadata": {
    "collapsed": false,
    "pycharm": {
     "name": "#%%\n"
    }
   }
  },
  {
   "cell_type": "code",
   "execution_count": 8,
   "outputs": [],
   "source": [],
   "metadata": {
    "collapsed": false,
    "pycharm": {
     "name": "#%%\n"
    }
   }
  },
  {
   "cell_type": "code",
   "execution_count": 9,
   "outputs": [
    {
     "name": "stdout",
     "output_type": "stream",
     "text": [
      "output/models.deeper_fcn-x1\n"
     ]
    }
   ],
   "source": [
    "enlarge = 1\n",
    "model_params = dict(metrics=[\"mae\", \"mape\"], enlarge=enlarge)\n",
    "fit_params = dict(epochs=30, verbose=2)  # set epochs between 30 and 75\n",
    "\n",
    "modelname = (architecture.__name__ + \"-x{}\".format(enlarge))\n",
    "modelpath = os.path.join(\"output\", modelname)\n",
    "os.makedirs(os.path.join(modelpath, \"final\"), exist_ok=True)\n",
    "print(modelpath)\n",
    "\n",
    "# write model architecture to JSON file\n",
    "model = architecture.create(**model_params)\n",
    "with open(os.path.join(modelpath, \"model.json\"), \"w\") as fp:\n",
    "    fp.write(model.to_json())"
   ],
   "metadata": {
    "collapsed": false,
    "pycharm": {
     "name": "#%%# single process for parallel training\n"
    }
   }
  },
  {
   "cell_type": "code",
   "execution_count": 10,
   "outputs": [],
   "source": [
    "def process_split(xt, yt, i, fit_params):\n",
    "    # set allow_growth in subprocess\n",
    "    config = tf.ConfigProto()\n",
    "    config.gpu_options.allow_growth = True\n",
    "    tf.keras.backend.set_session(tf.Session(config=config))\n",
    "    \n",
    "    csv_path = os.path.join(modelpath, \"logs-{:02d}.csv\".format(i))\n",
    "    weights_path = os.path.join(modelpath, \"weights-{:02d}.h5\".format(i))\n",
    "    fit_params.update(callbacks=[tf.keras.callbacks.CSVLogger(csv_path)])\n",
    "    \n",
    "    model = architecture.create(**model_params)\n",
    "    r = model.fit(xt, yt, **fit_params)\n",
    "    \n",
    "    model.save_weights(weights_path)\n",
    "    tf.keras.backend.clear_session()\n",
    "\n",
    "    return r.history"
   ],
   "metadata": {
    "collapsed": false,
    "pycharm": {
     "name": "#%%\n"
    }
   }
  },
  {
   "cell_type": "code",
   "execution_count": 11,
   "metadata": {
    "pycharm": {
     "name": "#%%\n"
    }
   },
   "outputs": [],
   "source": [
    "# split training data with LeaveOneGroupOut cross validation\n",
    "splitter = utils.get_group_splitter(n_groups, groups_train)"
   ]
  },
  {
   "cell_type": "code",
   "execution_count": 12,
   "outputs": [
    {
     "ename": "ValueError",
     "evalue": "Found input variables with inconsistent numbers of samples: [2938, 147082, 1000]",
     "output_type": "error",
     "traceback": [
      "\u001B[0;31m---------------------------------------------------------------------------\u001B[0m",
      "\u001B[0;31mValueError\u001B[0m                                Traceback (most recent call last)",
      "Cell \u001B[0;32mIn [12], line 6\u001B[0m\n\u001B[1;32m      4\u001B[0m splitter \u001B[38;5;241m=\u001B[39m LeaveOneGroupOut()\u001B[38;5;241m.\u001B[39msplit(x_data_train, y_data_train, groups\u001B[38;5;241m=\u001B[39mgroups_train)\n\u001B[1;32m      5\u001B[0m results \u001B[38;5;241m=\u001B[39m []\n\u001B[0;32m----> 6\u001B[0m \u001B[38;5;28;01mfor\u001B[39;00m i, (t_inds, v_inds) \u001B[38;5;129;01min\u001B[39;00m \u001B[38;5;28menumerate\u001B[39m(splitter):\n\u001B[1;32m      7\u001B[0m     model\u001B[38;5;241m.\u001B[39mload_weights(os\u001B[38;5;241m.\u001B[39mpath\u001B[38;5;241m.\u001B[39mjoin(modelpath, \u001B[38;5;124m\"\u001B[39m\u001B[38;5;124mweights-\u001B[39m\u001B[38;5;132;01m{:02d}\u001B[39;00m\u001B[38;5;124m.h5\u001B[39m\u001B[38;5;124m\"\u001B[39m\u001B[38;5;241m.\u001B[39mformat(i)))\n\u001B[1;32m      8\u001B[0m     y_pred \u001B[38;5;241m=\u001B[39m model\u001B[38;5;241m.\u001B[39mpredict(x_data_train[v_inds])\n",
      "File \u001B[0;32m/usr/local/lib/python3.10/dist-packages/sklearn/model_selection/_split.py:84\u001B[0m, in \u001B[0;36mBaseCrossValidator.split\u001B[0;34m(self, X, y, groups)\u001B[0m\n\u001B[1;32m     60\u001B[0m \u001B[38;5;28;01mdef\u001B[39;00m \u001B[38;5;21msplit\u001B[39m(\u001B[38;5;28mself\u001B[39m, X, y\u001B[38;5;241m=\u001B[39m\u001B[38;5;28;01mNone\u001B[39;00m, groups\u001B[38;5;241m=\u001B[39m\u001B[38;5;28;01mNone\u001B[39;00m):\n\u001B[1;32m     61\u001B[0m     \u001B[38;5;124;03m\"\"\"Generate indices to split data into training and test set.\u001B[39;00m\n\u001B[1;32m     62\u001B[0m \n\u001B[1;32m     63\u001B[0m \u001B[38;5;124;03m    Parameters\u001B[39;00m\n\u001B[0;32m   (...)\u001B[0m\n\u001B[1;32m     82\u001B[0m \u001B[38;5;124;03m        The testing set indices for that split.\u001B[39;00m\n\u001B[1;32m     83\u001B[0m \u001B[38;5;124;03m    \"\"\"\u001B[39;00m\n\u001B[0;32m---> 84\u001B[0m     X, y, groups \u001B[38;5;241m=\u001B[39m \u001B[43mindexable\u001B[49m\u001B[43m(\u001B[49m\u001B[43mX\u001B[49m\u001B[43m,\u001B[49m\u001B[43m \u001B[49m\u001B[43my\u001B[49m\u001B[43m,\u001B[49m\u001B[43m \u001B[49m\u001B[43mgroups\u001B[49m\u001B[43m)\u001B[49m\n\u001B[1;32m     85\u001B[0m     indices \u001B[38;5;241m=\u001B[39m np\u001B[38;5;241m.\u001B[39marange(_num_samples(X))\n\u001B[1;32m     86\u001B[0m     \u001B[38;5;28;01mfor\u001B[39;00m test_index \u001B[38;5;129;01min\u001B[39;00m \u001B[38;5;28mself\u001B[39m\u001B[38;5;241m.\u001B[39m_iter_test_masks(X, y, groups):\n",
      "File \u001B[0;32m/usr/local/lib/python3.10/dist-packages/sklearn/utils/validation.py:433\u001B[0m, in \u001B[0;36mindexable\u001B[0;34m(*iterables)\u001B[0m\n\u001B[1;32m    414\u001B[0m \u001B[38;5;124;03m\"\"\"Make arrays indexable for cross-validation.\u001B[39;00m\n\u001B[1;32m    415\u001B[0m \n\u001B[1;32m    416\u001B[0m \u001B[38;5;124;03mChecks consistent length, passes through None, and ensures that everything\u001B[39;00m\n\u001B[0;32m   (...)\u001B[0m\n\u001B[1;32m    429\u001B[0m \u001B[38;5;124;03m    sparse matrix, or dataframe) or `None`.\u001B[39;00m\n\u001B[1;32m    430\u001B[0m \u001B[38;5;124;03m\"\"\"\u001B[39;00m\n\u001B[1;32m    432\u001B[0m result \u001B[38;5;241m=\u001B[39m [_make_indexable(X) \u001B[38;5;28;01mfor\u001B[39;00m X \u001B[38;5;129;01min\u001B[39;00m iterables]\n\u001B[0;32m--> 433\u001B[0m \u001B[43mcheck_consistent_length\u001B[49m\u001B[43m(\u001B[49m\u001B[38;5;241;43m*\u001B[39;49m\u001B[43mresult\u001B[49m\u001B[43m)\u001B[49m\n\u001B[1;32m    434\u001B[0m \u001B[38;5;28;01mreturn\u001B[39;00m result\n",
      "File \u001B[0;32m/usr/local/lib/python3.10/dist-packages/sklearn/utils/validation.py:387\u001B[0m, in \u001B[0;36mcheck_consistent_length\u001B[0;34m(*arrays)\u001B[0m\n\u001B[1;32m    385\u001B[0m uniques \u001B[38;5;241m=\u001B[39m np\u001B[38;5;241m.\u001B[39munique(lengths)\n\u001B[1;32m    386\u001B[0m \u001B[38;5;28;01mif\u001B[39;00m \u001B[38;5;28mlen\u001B[39m(uniques) \u001B[38;5;241m>\u001B[39m \u001B[38;5;241m1\u001B[39m:\n\u001B[0;32m--> 387\u001B[0m     \u001B[38;5;28;01mraise\u001B[39;00m \u001B[38;5;167;01mValueError\u001B[39;00m(\n\u001B[1;32m    388\u001B[0m         \u001B[38;5;124m\"\u001B[39m\u001B[38;5;124mFound input variables with inconsistent numbers of samples: \u001B[39m\u001B[38;5;132;01m%r\u001B[39;00m\u001B[38;5;124m\"\u001B[39m\n\u001B[1;32m    389\u001B[0m         \u001B[38;5;241m%\u001B[39m [\u001B[38;5;28mint\u001B[39m(l) \u001B[38;5;28;01mfor\u001B[39;00m l \u001B[38;5;129;01min\u001B[39;00m lengths]\n\u001B[1;32m    390\u001B[0m     )\n",
      "\u001B[0;31mValueError\u001B[0m: Found input variables with inconsistent numbers of samples: [2938, 147082, 1000]"
     ]
    }
   ],
   "source": [
    "model = utils.get_model_from_json(modelpath, \"model.json\")\n",
    "\n",
    "# calculate MAPE and MAE for each left-out patient\n",
    "splitter = LeaveOneGroupOut().split(x_data_train, y_data_train, groups=groups_train)\n",
    "results = []\n",
    "for i, (t_inds, v_inds) in enumerate(splitter):\n",
    "    model.load_weights(os.path.join(modelpath, \"weights-{:02d}.h5\".format(i)))\n",
    "    y_pred = model.predict(x_data_train[v_inds])\n",
    "    y_true = y_data_train[v_inds]\n",
    "    results.append((hr.hr_mape(y_true, y_pred), hr.hr_mae(y_true, y_pred)))\n",
    "results = np.array(results)\n",
    "print(results)"
   ],
   "metadata": {
    "collapsed": false,
    "pycharm": {
     "name": "#%%\n"
    }
   }
  },
  {
   "cell_type": "code",
   "execution_count": null,
   "outputs": [],
   "source": [
    "# train one model on entire training set\n",
    "\n",
    "model = architecture.create(**model_params)\n",
    "r = model.fit(x_data_train, y_data_train, **fit_params)\n",
    "model.save_weights(os.path.join(modelpath, \"final\", \"weights-00.h5\"))\n",
    "tf.keras.backend.clear_session()"
   ],
   "metadata": {
    "collapsed": false,
    "pycharm": {
     "name": "#%%\n"
    }
   }
  },
  {
   "cell_type": "code",
   "execution_count": null,
   "outputs": [],
   "source": [],
   "metadata": {
    "collapsed": false,
    "pycharm": {
     "name": "#%%\n"
    }
   }
  }
 ],
 "metadata": {
  "kernelspec": {
   "display_name": "Python 3",
   "language": "python",
   "name": "python3"
  },
  "language_info": {
   "codemirror_mode": {
    "name": "ipython",
    "version": 3
   },
   "file_extension": ".py",
   "mimetype": "text/x-python",
   "name": "python",
   "nbconvert_exporter": "python",
   "pygments_lexer": "ipython3",
   "version": "3.6.8"
  }
 },
 "nbformat": 4,
 "nbformat_minor": 2
}